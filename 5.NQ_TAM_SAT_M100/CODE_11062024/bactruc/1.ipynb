{
 "cells": [
  {
   "cell_type": "code",
   "execution_count": 30,
   "metadata": {},
   "outputs": [],
   "source": [
    "import sqlite3\n",
    "\n",
    "conn = sqlite3.connect('modeldb.db')"
   ]
  },
  {
   "cell_type": "code",
   "execution_count": null,
   "metadata": {},
   "outputs": [],
   "source": [
    "conn.execute(\"INSERT INTO MYMODEL (Weights,) \\\n",
    "      VALUES ('C:/Users/Administrator/Desktop/vu/combine/model/best.pt')\")"
   ]
  },
  {
   "cell_type": "code",
   "execution_count": 10,
   "metadata": {},
   "outputs": [
    {
     "ename": "OperationalError",
     "evalue": "unrecognized token: \":\"",
     "output_type": "error",
     "traceback": [
      "\u001b[1;31m---------------------------------------------------------------------------\u001b[0m",
      "\u001b[1;31mOperationalError\u001b[0m                          Traceback (most recent call last)",
      "\u001b[1;32m<ipython-input-10-61aab1bc5ec9>\u001b[0m in \u001b[0;36m<module>\u001b[1;34m\u001b[0m\n\u001b[0;32m      1\u001b[0m conn.execute(f\"INSERT INTO MYMODEL (Weights,Confidence,Joined,Ok,Num,NG,WidthMin, WidthMax,HeightMin,HeightMax) \\\n\u001b[1;32m----> 2\u001b[1;33m       VALUES ({str('C:/Users/Administrator/Desktop/vu/combine/model/best5.pt')},50,1, 1, 1, 1, 0, 10000, 0, 10000)\")\n\u001b[0m",
      "\u001b[1;31mOperationalError\u001b[0m: unrecognized token: \":\""
     ]
    }
   ],
   "source": [
    "conn.execute(f\"INSERT INTO MYMODEL (Weights,Confidence,Joined,Ok,Num,NG,WidthMin, WidthMax,HeightMin,HeightMax) \\\n",
    "      VALUES ({str('C:/Users/Administrator/Desktop/vu/combine/model/best5.pt')},50,1, 1, 1, 1, 0, 10000, 0, 10000)\")"
   ]
  },
  {
   "cell_type": "code",
   "execution_count": 31,
   "metadata": {},
   "outputs": [],
   "source": [
    "conn.commit()\n",
    "conn.close()"
   ]
  },
  {
   "cell_type": "code",
   "execution_count": 16,
   "metadata": {},
   "outputs": [
    {
     "data": {
      "text/plain": [
       "<sqlite3.Cursor at 0x2449acde880>"
      ]
     },
     "execution_count": 16,
     "metadata": {},
     "output_type": "execute_result"
    }
   ],
   "source": [
    "conn.execute(\"\"\"INSERT INTO MYMODEL (Weights,Confidence,Joined,Ok,Num,NG,WidthMin, WidthMax,HeightMin,HeightMax) \\\n",
    "               VALUES (?,?,?,?,?,?,?,?,?,?);\"\"\", (str('C:/Users/Administrator/Desktop/vu/combine/model/best5.pt'), 50,1,1,1,1,0,10000,0,10000))"
   ]
  },
  {
   "cell_type": "code",
   "execution_count": 47,
   "metadata": {},
   "outputs": [
    {
     "name": "stdout",
     "output_type": "stream",
     "text": [
      "T\n",
      "r\n",
      "u\n",
      "e\n",
      "T\n",
      "r\n",
      "u\n",
      "e\n",
      "T\n",
      "r\n",
      "u\n",
      "e\n",
      "T\n",
      "r\n",
      "u\n",
      "e\n",
      "T\n",
      "r\n",
      "u\n",
      "e\n",
      "T\n",
      "r\n",
      "u\n",
      "e\n",
      "T\n",
      "r\n",
      "u\n",
      "e\n",
      "T\n",
      "r\n",
      "u\n",
      "e\n",
      "T\n",
      "r\n",
      "u\n",
      "e\n",
      "T\n",
      "r\n",
      "u\n",
      "e\n",
      "T\n",
      "r\n",
      "u\n",
      "e\n",
      "T\n",
      "r\n",
      "u\n",
      "e\n",
      "T\n",
      "r\n",
      "u\n",
      "e\n",
      "T\n",
      "r\n",
      "u\n",
      "e\n",
      "T\n",
      "r\n",
      "u\n",
      "e\n",
      "T\n",
      "r\n",
      "u\n",
      "e\n",
      "T\n",
      "r\n",
      "u\n",
      "e\n",
      "T\n",
      "r\n",
      "u\n",
      "e\n"
     ]
    }
   ],
   "source": [
    "import sqlite3\n",
    "\n",
    "conn = sqlite3.connect('modeldb.db')\n",
    "\n",
    "cursor = conn.execute(\"SELECT ChooseModel,Camera,Weights,Confidence,Joined,Ok,Num,NG,WidthMin,WidthMax,HeightMin,HeightMax from MYMODEL\")\n",
    "myrows = []\n",
    "\n",
    "for row in cursor:\n",
    "    if row[0] == '1':\n",
    "        row1_a, row1_b = row[1].strip().split('_')\n",
    "        if row1_a == '1' and row1_b == '0':\n",
    "            #print(row[3])\n",
    "            pass\n",
    "        if row1_a == '1':\n",
    "            pass\n",
    "   #print(\"NAME = \", row[1])\n",
    "   #print(\"ADDRESS = \", row[2])\n",
    "   #print(\"SALARY = \", row[3], \"\\n\")\n",
    "#print(myrows)\n",
    "#print(myrows[0])\n",
    "conn.close()"
   ]
  },
  {
   "cell_type": "code",
   "execution_count": null,
   "metadata": {},
   "outputs": [],
   "source": [
    "import sqlite3\n",
    "\n",
    "conn = sqlite3.connect('test.db')\n",
    "\n",
    "conn.execute(\"UPDATE COMPANY set SALARY = 25000.00 where ID = 1\")\n",
    "conn.commit()\n",
    "\n",
    "cursor = conn.execute(\"SELECT id, name, address, salary from COMPANY\")\n",
    "for row in cursor:\n",
    "   print()\n",
    "conn.close()"
   ]
  },
  {
   "cell_type": "code",
   "execution_count": null,
   "metadata": {},
   "outputs": [],
   "source": [
    "conn.execute(\"UPDATE MYMODEL SET ChooseModel = ?, Camera = ?, Weights = ?, Confidence = ?, Joined = ?, Ok = ?, Num = ?, NG = ?, WidthMin = ?, WidthMax = ?, HeightMin = ?, HeightMax = ? where (ChooseModel = ? AND Camera LIKE ?)\",  ('1','1'+ '_' +'0' ,\"C:\\Users\\Administrator\\Desktop\\vu\\combine\\model\\best1_h.pt\", 25,True, True, True, True, 0, 10000, 0, 10000, '1', '1%')"
   ]
  },
  {
   "cell_type": "code",
   "execution_count": null,
   "metadata": {},
   "outputs": [],
   "source": [
    "conn.execute(\"UPDATE MYMODEL SET ChooseModel = ?, Camera = ?, Weights = ?, Confidence = ?, Joined = ?, Ok = ?, Num = ?, NG = ?, WidthMin = ?, WidthMax = ?, HeightMin = ?, HeightMax = ? where (ChooseModel = ? AND Camera = ?)\", \n",
    " str(i)), str(i) +'_'+ str(item))"
   ]
  },
  {
   "cell_type": "code",
   "execution_count": null,
   "metadata": {},
   "outputs": [],
   "source": [
    "str(values[model.names[item] + '_' + str(i)]), str(values[model.names[item]+ '_OK_' + str(i)]), int(values[model.names[item]+ '_Num_' + str(i)]), str(values[model.names[item]+ '_NG_' + str(i)]), int(values[model.names[item] + '_Wn_' + str(i)]), int(values[model.names[item] + '_Wx_' + str(i)]), int(values[model.names[item]+ '_Hn_' + str(i)]), int(values[model.names[item] + '_Hx_' + str(i)])"
   ]
  },
  {
   "cell_type": "code",
   "execution_count": null,
   "metadata": {},
   "outputs": [],
   "source": [
    "DELETE FROM table_name WHERE condition;"
   ]
  },
  {
   "cell_type": "code",
   "execution_count": null,
   "metadata": {},
   "outputs": [],
   "source": [
    "str(values['have_save_OK_1']),str(values['have_save_OK_2']),str(values['have_save_NG_1']),str(values['have_save_NG_2']),str(values['save_OK_1']),str(values['save_OK_2']),str(values['save_NG_1']),str(values['save_NG_2'])"
   ]
  },
  {
   "cell_type": "code",
   "execution_count": null,
   "metadata": {},
   "outputs": [],
   "source": [
    "str(values['have_save_OK_1']),str(values['have_save_OK_2']),str(values['have_save_OK_3']),str(values['have_save_OK_4']),str(values['have_save_NG_1']),str(values['have_save_NG_2']),str(values['have_save_NG_3']),str(values['have_save_NG_4']),str(values['save_OK_1']),str(values['save_OK_2']),str(values['save_OK_3']),str(values['save_OK_4']),str(values['save_NG_1']),str(values['save_NG_2']),str(values['save_NG_3']),str(values['save_NG_4']), "
   ]
  }
 ],
 "metadata": {
  "interpreter": {
   "hash": "545cea82dbb592401e1030c2222405c0ef5c3f8252285fbfa67e6958cec34333"
  },
  "kernelspec": {
   "display_name": "Python 3.6.13 ('py36')",
   "language": "python",
   "name": "python3"
  },
  "language_info": {
   "codemirror_mode": {
    "name": "ipython",
    "version": 3
   },
   "file_extension": ".py",
   "mimetype": "text/x-python",
   "name": "python",
   "nbconvert_exporter": "python",
   "pygments_lexer": "ipython3",
   "version": "3.6.13"
  },
  "orig_nbformat": 4
 },
 "nbformat": 4,
 "nbformat_minor": 2
}
